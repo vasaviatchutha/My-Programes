{
 "cells": [
  {
   "cell_type": "code",
   "execution_count": 28,
   "id": "b3117e88",
   "metadata": {},
   "outputs": [
    {
     "data": {
      "text/plain": [
       "array([[37, 40],\n",
       "       [85, 92]])"
      ]
     },
     "execution_count": 28,
     "metadata": {},
     "output_type": "execute_result"
    }
   ],
   "source": [
    "#Dot and matrix product of two arrays\n",
    "import numpy.matlib \n",
    "import numpy as np \n",
    "\n",
    "a = np.array([[1,2],[3,4]]) \n",
    "b = np.array([[11,12],[13,14]]) \n",
    "np.dot(a,b)"
   ]
  },
  {
   "cell_type": "code",
   "execution_count": 27,
   "id": "c3a5f38c",
   "metadata": {},
   "outputs": [
    {
     "name": "stdout",
     "output_type": "stream",
     "text": [
      "[[1 2]\n",
      " [2 3]]\n",
      "Eigen values : [-0.23606798  4.23606798]\n"
     ]
    }
   ],
   "source": [
    "#Compute the Eigen values of a matrix \n",
    "m = np.array([[1, 2],\n",
    "              [2, 3]])\n",
    "print(m)\n",
    "w,v = np.linalg.eig(m)\n",
    "print(\"Eigen values :\",w)\n"
   ]
  },
  {
   "cell_type": "code",
   "execution_count": 7,
   "id": "5945b1a8",
   "metadata": {},
   "outputs": [
    {
     "name": "stdout",
     "output_type": "stream",
     "text": [
      "[2. 3.]\n"
     ]
    }
   ],
   "source": [
    "#Solve a linear matrix equation such as 3 * x0+ x1= 9 and x0+ 2 * x1= 8\n",
    "A = np.array([[3, 1], [1, 2]])\n",
    "B = np.array([9, 8])\n",
    "X = np.linalg.solve(A,B)\n",
    "\n",
    "print(X)"
   ]
  },
  {
   "cell_type": "code",
   "execution_count": 21,
   "id": "45cc5cce",
   "metadata": {},
   "outputs": [
    {
     "name": "stdout",
     "output_type": "stream",
     "text": [
      "[[-0.36363636  0.27272727  0.        ]\n",
      " [ 0.22727273 -0.04545455  0.        ]\n",
      " [ 0.04040404 -0.03030303  0.11111111]]\n"
     ]
    }
   ],
   "source": [
    "#Compute the multiplicative inverse of a matrix \n",
    "m = np.matrix([[1, 6, 0], \n",
    "               [5, 8, 0], \n",
    "               [1, 0, 9]])\n",
    "             \n",
    "print( np.linalg.inv(m))"
   ]
  },
  {
   "cell_type": "code",
   "execution_count": 24,
   "id": "3ab1af6a",
   "metadata": {},
   "outputs": [
    {
     "name": "stdout",
     "output_type": "stream",
     "text": [
      "rank of the matrix is: 3\n"
     ]
    }
   ],
   "source": [
    "#Compute the rank of a matrix \n",
    "rank = np.linalg.matrix_rank(m)\n",
    "print(\"rank of the matrix is:\",rank)"
   ]
  },
  {
   "cell_type": "code",
   "execution_count": 26,
   "id": "3c89b0c6",
   "metadata": {},
   "outputs": [
    {
     "name": "stdout",
     "output_type": "stream",
     "text": [
      "Determinant of  array:\n",
      "-198.00000000000017\n"
     ]
    }
   ],
   "source": [
    "#Compute the determinant of an array\n",
    "result =  np.linalg.det(m)\n",
    "print(\"Determinant of  array:\")\n",
    "print(result)"
   ]
  },
  {
   "cell_type": "code",
   "execution_count": null,
   "id": "d2d2ac10",
   "metadata": {},
   "outputs": [],
   "source": []
  }
 ],
 "metadata": {
  "kernelspec": {
   "display_name": "Python 3 (ipykernel)",
   "language": "python",
   "name": "python3"
  },
  "language_info": {
   "codemirror_mode": {
    "name": "ipython",
    "version": 3
   },
   "file_extension": ".py",
   "mimetype": "text/x-python",
   "name": "python",
   "nbconvert_exporter": "python",
   "pygments_lexer": "ipython3",
   "version": "3.9.7"
  }
 },
 "nbformat": 4,
 "nbformat_minor": 5
}

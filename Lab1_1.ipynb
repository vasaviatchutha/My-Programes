{
 "cells": [
  {
   "cell_type": "markdown",
   "id": "e66d291c",
   "metadata": {},
   "source": [
    "# 1. Create the following NumPy arrays: "
   ]
  },
  {
   "cell_type": "code",
   "execution_count": 4,
   "id": "b3bee052",
   "metadata": {},
   "outputs": [],
   "source": [
    "import numpy as np"
   ]
  },
  {
   "cell_type": "code",
   "execution_count": 118,
   "id": "18f7633a",
   "metadata": {},
   "outputs": [
    {
     "data": {
      "text/plain": [
       "array([0, 0, 0, 0, 0, 0, 0, 0, 0, 0])"
      ]
     },
     "execution_count": 118,
     "metadata": {},
     "output_type": "execute_result"
    }
   ],
   "source": [
    "# a) A 1-D array called zeros having 10 elements and all the elements are set to zero.\n",
    "zeros = np.zeros(10,dtype=int)\n",
    "zeros"
   ]
  },
  {
   "cell_type": "code",
   "execution_count": 119,
   "id": "5e3640cb",
   "metadata": {},
   "outputs": [
    {
     "data": {
      "text/plain": [
       "array(['a', 'e', 'i', 'o', 'u'], dtype='<U1')"
      ]
     },
     "execution_count": 119,
     "metadata": {},
     "output_type": "execute_result"
    }
   ],
   "source": [
    "# b) A 1-D array called vowels having the elements ‘a’, ‘e’, ‘i’, ‘o’ and ‘u’. # # b. A 1-D array called vowels having the elements ‘a’, ‘e’, ‘i’, ‘o’ and ‘u’.\n",
    "vowels = np.array(['a','e','i','o','u'])\n",
    "vowels"
   ]
  },
  {
   "cell_type": "code",
   "execution_count": 120,
   "id": "6f785527",
   "metadata": {},
   "outputs": [
    {
     "data": {
      "text/plain": [
       "array([[1, 1, 1, 1, 1],\n",
       "       [1, 1, 1, 1, 1]])"
      ]
     },
     "execution_count": 120,
     "metadata": {},
     "output_type": "execute_result"
    }
   ],
   "source": [
    "# c) A 2-D array called ones having 2 rows and 5 columns and all the elements are set to 1 and  dtype as int.\n",
    "ones = np.ones((2,5),dtype=int)\n",
    "ones"
   ]
  },
  {
   "cell_type": "code",
   "execution_count": 121,
   "id": "6f5fd5aa",
   "metadata": {},
   "outputs": [
    {
     "data": {
      "text/plain": [
       "array([[  2.7,  -2. , -19. ],\n",
       "       [  0. ,   3.4,  99.9],\n",
       "       [ 10.6,   0. ,  13. ]])"
      ]
     },
     "execution_count": 121,
     "metadata": {},
     "output_type": "execute_result"
    }
   ],
   "source": [
    "# d) Use nested Python lists to create a 2-D array called myarray1 having 3 rows and 3 columns and store the following data: i. 2.7, -2, -19, ii. 0, 3.4, 99.9, iii. 10.6, 0, 13 \n",
    "myarray1 = np.array([[2.7, -2, -19],[0, 3.4, 99.9],[10.6, 0, 13]])\n",
    "myarray1"
   ]
  },
  {
   "cell_type": "code",
   "execution_count": 122,
   "id": "37c777dc",
   "metadata": {},
   "outputs": [
    {
     "data": {
      "text/plain": [
       "array([[ 4.,  8., 12.],\n",
       "       [16., 20., 24.],\n",
       "       [28., 32., 36.]])"
      ]
     },
     "execution_count": 122,
     "metadata": {},
     "output_type": "execute_result"
    }
   ],
   "source": [
    "# e) A 2-D array called myarray2 using arange() having 3 rows and 5 columns with start value = 4,step size 4 and dtype as float.\n",
    "myarray2 = np.arange(4,45,4,dtype=float)\n",
    "myarray2.resize(3,3)\n",
    "myarray2"
   ]
  },
  {
   "cell_type": "markdown",
   "id": "8f783ee7",
   "metadata": {},
   "source": [
    "# Using the arrays created in the above, write NumPy commands for the following:"
   ]
  },
  {
   "cell_type": "code",
   "execution_count": 123,
   "id": "64423e6a",
   "metadata": {},
   "outputs": [
    {
     "data": {
      "text/plain": [
       "1"
      ]
     },
     "execution_count": 123,
     "metadata": {},
     "output_type": "execute_result"
    }
   ],
   "source": [
    "# a) Find the dimensions, shape, size, data type of the items and itemsize of arrays zeros, vowels,ones, myarray1 and myarray2.\n",
    "zeros.ndim"
   ]
  },
  {
   "cell_type": "code",
   "execution_count": 124,
   "id": "d7ab0b07",
   "metadata": {},
   "outputs": [
    {
     "data": {
      "text/plain": [
       "(10,)"
      ]
     },
     "execution_count": 124,
     "metadata": {},
     "output_type": "execute_result"
    }
   ],
   "source": [
    "zeros.shape"
   ]
  },
  {
   "cell_type": "code",
   "execution_count": 125,
   "id": "01f18732",
   "metadata": {},
   "outputs": [
    {
     "data": {
      "text/plain": [
       "dtype('int32')"
      ]
     },
     "execution_count": 125,
     "metadata": {},
     "output_type": "execute_result"
    }
   ],
   "source": [
    "zeros.dtype"
   ]
  },
  {
   "cell_type": "code",
   "execution_count": 126,
   "id": "56cb9597",
   "metadata": {},
   "outputs": [
    {
     "data": {
      "text/plain": [
       "4"
      ]
     },
     "execution_count": 126,
     "metadata": {},
     "output_type": "execute_result"
    }
   ],
   "source": [
    "zeros.itemsize"
   ]
  },
  {
   "cell_type": "code",
   "execution_count": 127,
   "id": "04fd9ad4",
   "metadata": {},
   "outputs": [
    {
     "data": {
      "text/plain": [
       "1"
      ]
     },
     "execution_count": 127,
     "metadata": {},
     "output_type": "execute_result"
    }
   ],
   "source": [
    "vowels.ndim"
   ]
  },
  {
   "cell_type": "code",
   "execution_count": 128,
   "id": "b15c90ca",
   "metadata": {},
   "outputs": [
    {
     "data": {
      "text/plain": [
       "(5,)"
      ]
     },
     "execution_count": 128,
     "metadata": {},
     "output_type": "execute_result"
    }
   ],
   "source": [
    "vowels.shape"
   ]
  },
  {
   "cell_type": "code",
   "execution_count": 129,
   "id": "7f25118f",
   "metadata": {},
   "outputs": [
    {
     "data": {
      "text/plain": [
       "5"
      ]
     },
     "execution_count": 129,
     "metadata": {},
     "output_type": "execute_result"
    }
   ],
   "source": [
    "vowels.size"
   ]
  },
  {
   "cell_type": "code",
   "execution_count": 130,
   "id": "3db42d4c",
   "metadata": {},
   "outputs": [
    {
     "data": {
      "text/plain": [
       "dtype('<U1')"
      ]
     },
     "execution_count": 130,
     "metadata": {},
     "output_type": "execute_result"
    }
   ],
   "source": [
    "vowels.dtype"
   ]
  },
  {
   "cell_type": "code",
   "execution_count": 131,
   "id": "f5906da7",
   "metadata": {},
   "outputs": [
    {
     "data": {
      "text/plain": [
       "4"
      ]
     },
     "execution_count": 131,
     "metadata": {},
     "output_type": "execute_result"
    }
   ],
   "source": [
    "vowels.itemsize"
   ]
  },
  {
   "cell_type": "code",
   "execution_count": 132,
   "id": "c7fc653d",
   "metadata": {},
   "outputs": [
    {
     "data": {
      "text/plain": [
       "2"
      ]
     },
     "execution_count": 132,
     "metadata": {},
     "output_type": "execute_result"
    }
   ],
   "source": [
    "ones.ndim"
   ]
  },
  {
   "cell_type": "code",
   "execution_count": 133,
   "id": "23b95643",
   "metadata": {},
   "outputs": [
    {
     "data": {
      "text/plain": [
       "(2, 5)"
      ]
     },
     "execution_count": 133,
     "metadata": {},
     "output_type": "execute_result"
    }
   ],
   "source": [
    "ones.shape"
   ]
  },
  {
   "cell_type": "code",
   "execution_count": 134,
   "id": "8971b696",
   "metadata": {},
   "outputs": [
    {
     "data": {
      "text/plain": [
       "10"
      ]
     },
     "execution_count": 134,
     "metadata": {},
     "output_type": "execute_result"
    }
   ],
   "source": [
    "ones.size"
   ]
  },
  {
   "cell_type": "code",
   "execution_count": 135,
   "id": "c0620267",
   "metadata": {},
   "outputs": [
    {
     "data": {
      "text/plain": [
       "dtype('int32')"
      ]
     },
     "execution_count": 135,
     "metadata": {},
     "output_type": "execute_result"
    }
   ],
   "source": [
    "ones.dtype"
   ]
  },
  {
   "cell_type": "code",
   "execution_count": 136,
   "id": "cf7c13ab",
   "metadata": {},
   "outputs": [
    {
     "data": {
      "text/plain": [
       "4"
      ]
     },
     "execution_count": 136,
     "metadata": {},
     "output_type": "execute_result"
    }
   ],
   "source": [
    "ones.itemsize"
   ]
  },
  {
   "cell_type": "code",
   "execution_count": 137,
   "id": "4189bc33",
   "metadata": {},
   "outputs": [
    {
     "data": {
      "text/plain": [
       "2"
      ]
     },
     "execution_count": 137,
     "metadata": {},
     "output_type": "execute_result"
    }
   ],
   "source": [
    "myarray1.ndim"
   ]
  },
  {
   "cell_type": "code",
   "execution_count": 138,
   "id": "d3264402",
   "metadata": {},
   "outputs": [
    {
     "data": {
      "text/plain": [
       "(3, 3)"
      ]
     },
     "execution_count": 138,
     "metadata": {},
     "output_type": "execute_result"
    }
   ],
   "source": [
    "myarray1.shape"
   ]
  },
  {
   "cell_type": "code",
   "execution_count": 139,
   "id": "27cef825",
   "metadata": {},
   "outputs": [
    {
     "data": {
      "text/plain": [
       "9"
      ]
     },
     "execution_count": 139,
     "metadata": {},
     "output_type": "execute_result"
    }
   ],
   "source": [
    "myarray1.size"
   ]
  },
  {
   "cell_type": "code",
   "execution_count": 140,
   "id": "c74b327c",
   "metadata": {},
   "outputs": [
    {
     "data": {
      "text/plain": [
       "dtype('float64')"
      ]
     },
     "execution_count": 140,
     "metadata": {},
     "output_type": "execute_result"
    }
   ],
   "source": [
    "myarray1.dtype"
   ]
  },
  {
   "cell_type": "code",
   "execution_count": 141,
   "id": "34ccad1e",
   "metadata": {},
   "outputs": [
    {
     "data": {
      "text/plain": [
       "8"
      ]
     },
     "execution_count": 141,
     "metadata": {},
     "output_type": "execute_result"
    }
   ],
   "source": [
    "myarray1.itemsize"
   ]
  },
  {
   "cell_type": "code",
   "execution_count": 142,
   "id": "7e0d4016",
   "metadata": {},
   "outputs": [
    {
     "data": {
      "text/plain": [
       "2"
      ]
     },
     "execution_count": 142,
     "metadata": {},
     "output_type": "execute_result"
    }
   ],
   "source": [
    "myarray2.ndim"
   ]
  },
  {
   "cell_type": "code",
   "execution_count": 143,
   "id": "ca269c98",
   "metadata": {},
   "outputs": [
    {
     "data": {
      "text/plain": [
       "(3, 3)"
      ]
     },
     "execution_count": 143,
     "metadata": {},
     "output_type": "execute_result"
    }
   ],
   "source": [
    "myarray2.shape"
   ]
  },
  {
   "cell_type": "code",
   "execution_count": 144,
   "id": "5e758e67",
   "metadata": {},
   "outputs": [
    {
     "data": {
      "text/plain": [
       "9"
      ]
     },
     "execution_count": 144,
     "metadata": {},
     "output_type": "execute_result"
    }
   ],
   "source": [
    "myarray2.size"
   ]
  },
  {
   "cell_type": "code",
   "execution_count": 145,
   "id": "71e3b20b",
   "metadata": {},
   "outputs": [
    {
     "data": {
      "text/plain": [
       "dtype('float64')"
      ]
     },
     "execution_count": 145,
     "metadata": {},
     "output_type": "execute_result"
    }
   ],
   "source": [
    "myarray2.dtype"
   ]
  },
  {
   "cell_type": "code",
   "execution_count": 146,
   "id": "b429caca",
   "metadata": {},
   "outputs": [
    {
     "data": {
      "text/plain": [
       "8"
      ]
     },
     "execution_count": 146,
     "metadata": {},
     "output_type": "execute_result"
    }
   ],
   "source": [
    "myarray2.itemsize"
   ]
  },
  {
   "cell_type": "code",
   "execution_count": 147,
   "id": "4658ddd5",
   "metadata": {},
   "outputs": [
    {
     "data": {
      "text/plain": [
       "array([[1, 1, 1, 1, 1, 1, 1, 1, 1, 1]])"
      ]
     },
     "execution_count": 147,
     "metadata": {},
     "output_type": "execute_result"
    }
   ],
   "source": [
    "# b) Reshape the array ones to have all the 10 elements in a single row. \n",
    "ones = np.ones((2,5),dtype=int)\n",
    "ones.reshape(1,10)"
   ]
  },
  {
   "cell_type": "code",
   "execution_count": 148,
   "id": "c3a80b6a",
   "metadata": {},
   "outputs": [
    {
     "name": "stdout",
     "output_type": "stream",
     "text": [
      "e i\n"
     ]
    }
   ],
   "source": [
    "# c) Display the 2nd and 3rd element of the array vowels. \n",
    "print(vowels[1],vowels[2])"
   ]
  },
  {
   "cell_type": "code",
   "execution_count": 149,
   "id": "04ad2cf7",
   "metadata": {},
   "outputs": [
    {
     "data": {
      "text/plain": [
       "array([[ 0. ,  3.4, 99.9],\n",
       "       [10.6,  0. , 13. ]])"
      ]
     },
     "execution_count": 149,
     "metadata": {},
     "output_type": "execute_result"
    }
   ],
   "source": [
    "# d) Display all elements in the 2nd and 3rd row of the array myarray1. \n",
    "myarray1 = np.array([[2.7,-2,-19],[0,3.4,99.9],[10.6,0,13]])\n",
    "myarray1[1:3]"
   ]
  },
  {
   "cell_type": "code",
   "execution_count": 150,
   "id": "4cc686d1",
   "metadata": {},
   "outputs": [
    {
     "data": {
      "text/plain": [
       "array([[ 2.7, -2. ],\n",
       "       [ 0. ,  3.4],\n",
       "       [10.6,  0. ]])"
      ]
     },
     "execution_count": 150,
     "metadata": {},
     "output_type": "execute_result"
    }
   ],
   "source": [
    "# e) Display the elements in the 1st and 2nd column of the array myarray1.\n",
    "myarray1 = np.array([[2.7,-2,-19],[0,3.4,99.9],[10.6,0,13]])\n",
    "myarray1[0:3,0:2]"
   ]
  },
  {
   "cell_type": "code",
   "execution_count": 151,
   "id": "c7746e59",
   "metadata": {},
   "outputs": [
    {
     "data": {
      "text/plain": [
       "array([[ 0. ,  3.4, 99.9],\n",
       "       [10.6,  0. , 13. ]])"
      ]
     },
     "execution_count": 151,
     "metadata": {},
     "output_type": "execute_result"
    }
   ],
   "source": [
    "# f) Display the elements in the 1st column of the 2nd and 3rd row of the array myarray1. \n",
    "myarray1 = np.array([[2.7,-2,19],[0,3.4,99.9],[10.6,0,13]])\n",
    "myarray1[1:3,0:3]"
   ]
  },
  {
   "cell_type": "code",
   "execution_count": 152,
   "id": "59bb08a5",
   "metadata": {},
   "outputs": [
    {
     "data": {
      "text/plain": [
       "array(['u', 'o', 'i', 'e', 'a'], dtype='<U1')"
      ]
     },
     "execution_count": 152,
     "metadata": {},
     "output_type": "execute_result"
    }
   ],
   "source": [
    "# g) Reverse the array of vowels.\n",
    "vowels = np.array(['a','e','i','o','u'])\n",
    "vowels[::-1]"
   ]
  },
  {
   "cell_type": "code",
   "execution_count": 153,
   "id": "6882fce9",
   "metadata": {},
   "outputs": [
    {
     "data": {
      "text/plain": [
       "array([[0.33333333, 0.33333333, 0.33333333, 0.33333333, 0.33333333],\n",
       "       [0.33333333, 0.33333333, 0.33333333, 0.33333333, 0.33333333]])"
      ]
     },
     "execution_count": 153,
     "metadata": {},
     "output_type": "execute_result"
    }
   ],
   "source": [
    "# h) Divide all elements of array ones by 3. \n",
    "ones = np.ones((2,5),dtype=int)\n",
    "ones/3"
   ]
  },
  {
   "cell_type": "code",
   "execution_count": 154,
   "id": "d6c05400",
   "metadata": {},
   "outputs": [
    {
     "data": {
      "text/plain": [
       "array([[  6.7,   6. ,  -7. ],\n",
       "       [ 16. ,  23.4, 123.9],\n",
       "       [ 38.6,  32. ,  49. ]])"
      ]
     },
     "execution_count": 154,
     "metadata": {},
     "output_type": "execute_result"
    }
   ],
   "source": [
    "# i) Add the arrays myarray1 and myarray2.\n",
    "myarray1 = np.array([[2.7,-2,-19],[0,3.4,99.9],[10.6,0,13]])\n",
    "myarray2 = np.arange(4,45,4,dtype=float)\n",
    "myarray2.resize(3,3)\n",
    "myarray1 + myarray2"
   ]
  },
  {
   "cell_type": "code",
   "execution_count": 8,
   "id": "018bc487",
   "metadata": {},
   "outputs": [
    {
     "data": {
      "text/plain": [
       "array([[  1.3,  10. ,  31. ],\n",
       "       [ 16. ,  16.6, -75.9],\n",
       "       [ 17.4,  32. ,  23. ]])"
      ]
     },
     "execution_count": 8,
     "metadata": {},
     "output_type": "execute_result"
    }
   ],
   "source": [
    " # j) Subtract myarray1 from myarray2 and store the result in a new array\n",
    "myarray1 = np.array([[2.7,-2,-19],[0,3.4,99.9],[10.6,0,13]])\n",
    "myarray2 = np.arange(4,45,4,dtype=float)\n",
    "myarray2.resize(3,3)\n",
    "newarray=myarray2-myarray1\n",
    "newarray"
   ]
  },
  {
   "cell_type": "code",
   "execution_count": 6,
   "id": "294a28f2",
   "metadata": {},
   "outputs": [
    {
     "data": {
      "text/plain": [
       "array([[  10.8,  -16. , -228. ],\n",
       "       [   0. ,   68. , 2397.6],\n",
       "       [ 296.8,    0. ,  468. ]])"
      ]
     },
     "execution_count": 6,
     "metadata": {},
     "output_type": "execute_result"
    }
   ],
   "source": [
    "# k) Multiply myarray1 and myarray2 element wise. \n",
    "myarray1 = np.array([[2.7,-2,-19],[0,3.4,99.9],[10.6,0,13]])\n",
    "myarray2 = np.arange(4,45,4,dtype=float)\n",
    "myarray2.resize(3,3)\n",
    "myarray2 * myarray1"
   ]
  },
  {
   "cell_type": "code",
   "execution_count": 157,
   "id": "14bffaf3",
   "metadata": {},
   "outputs": [
    {
     "data": {
      "text/plain": [
       "array([[ 138. ,   19.2,  879.2],\n",
       "       [ 297.6,   36. , 2006. ],\n",
       "       [ 457.2,   52.8, 3132.8]])"
      ]
     },
     "execution_count": 157,
     "metadata": {},
     "output_type": "execute_result"
    }
   ],
   "source": [
    "# l) Do the matrix multiplication of myarray1 and myarray2 and store the result in a new array myarray3. \n",
    "myarray1 = np.array([[2.7,-2,-19],[0,3.4,99.9],[10.6,0,13]])\n",
    "myarray2 = np.arange(4,45,4,dtype=float)\n",
    "myarray2.resize(3,3)\n",
    "myarray3 = myarray2 @ myarray1\n",
    "myarray3"
   ]
  },
  {
   "cell_type": "code",
   "execution_count": 158,
   "id": "08b9cf9c",
   "metadata": {},
   "outputs": [
    {
     "data": {
      "text/plain": [
       "array([[ 0.675     , -0.25      , -1.58333333],\n",
       "       [ 0.        ,  0.17      ,  4.1625    ],\n",
       "       [ 0.37857143,  0.        ,  0.36111111]])"
      ]
     },
     "execution_count": 158,
     "metadata": {},
     "output_type": "execute_result"
    }
   ],
   "source": [
    "# m) Divide myarray1 by myarray2. \n",
    "myarray1 = np.array([[2.7,-2,-19],[0,3.4,99.9],[10.6,0,13]])\n",
    "myarray2 = np.arange(4,45,4,dtype=float)\n",
    "myarray2.resize(3,3)\n",
    "myarray1 / myarray2"
   ]
  },
  {
   "cell_type": "code",
   "execution_count": 159,
   "id": "eedd1a22",
   "metadata": {},
   "outputs": [
    {
     "data": {
      "text/plain": [
       "array([[ 9.841500e+00, -4.000000e+00, -3.429500e+03],\n",
       "       [ 0.000000e+00,  1.965200e+01,  4.985015e+05],\n",
       "       [ 5.955080e+02,  0.000000e+00,  1.098500e+03]])"
      ]
     },
     "execution_count": 159,
     "metadata": {},
     "output_type": "execute_result"
    }
   ],
   "source": [
    "# n) Find the cube of all elements of myarray1 and divide the resulting array by 2.\n",
    "myarray1 = np.array([[2.7,-2,-19],[0,3.4,99.9],[10.6,0,13]])\n",
    "myarraycube = myarray1 ** 3\n",
    "myarraycube/2"
   ]
  },
  {
   "cell_type": "code",
   "execution_count": 160,
   "id": "9b4cda06",
   "metadata": {},
   "outputs": [
    {
     "data": {
      "text/plain": [
       "array([[1.  , 1.41, 1.73],\n",
       "       [2.  , 2.24, 2.45],\n",
       "       [2.65, 2.83, 3.  ]])"
      ]
     },
     "execution_count": 160,
     "metadata": {},
     "output_type": "execute_result"
    }
   ],
   "source": [
    "# o) Find the square root of all elements of myarray2 and divide the resulting array by 2. The result should be rounded to two places of decimals.\n",
    "myarray2 = np.arange(4,45,4,dtype=float)\n",
    "myarray2.resize(3,3)\n",
    "arraysqrt = np.sqrt(myarray2)\n",
    "newarraysqrt = arraysqrt/2\n",
    "np.around(newarraysqrt,2)"
   ]
  },
  {
   "cell_type": "code",
   "execution_count": 161,
   "id": "37912780",
   "metadata": {},
   "outputs": [
    {
     "data": {
      "text/plain": [
       "array([[1, 1],\n",
       "       [1, 1],\n",
       "       [1, 1],\n",
       "       [1, 1],\n",
       "       [1, 1]])"
      ]
     },
     "execution_count": 161,
     "metadata": {},
     "output_type": "execute_result"
    }
   ],
   "source": [
    "# p) Find the transpose of ones and myarray2.\n",
    "ones = np.ones((2,5),dtype=int)\n",
    "ones.transpose()"
   ]
  },
  {
   "cell_type": "code",
   "execution_count": 162,
   "id": "f83c4d6b",
   "metadata": {},
   "outputs": [
    {
     "data": {
      "text/plain": [
       "array([[ 4., 16., 28.],\n",
       "       [ 8., 20., 32.],\n",
       "       [12., 24., 36.]])"
      ]
     },
     "execution_count": 162,
     "metadata": {},
     "output_type": "execute_result"
    }
   ],
   "source": [
    "myarray2 = np.arange(4,45,4,dtype=float)\n",
    "myarray2.resize(3,3)\n",
    "myarray2.transpose()"
   ]
  },
  {
   "cell_type": "code",
   "execution_count": 163,
   "id": "e67c9353",
   "metadata": {},
   "outputs": [
    {
     "data": {
      "text/plain": [
       "array(['u', 'o', 'i', 'e', 'a'], dtype='<U1')"
      ]
     },
     "execution_count": 163,
     "metadata": {},
     "output_type": "execute_result"
    }
   ],
   "source": [
    "# q) Sort the array vowels in reverse. \n",
    "vowels = np.array(['a','e','i','o','u'])\n",
    "vowels[ : : -1]"
   ]
  },
  {
   "cell_type": "code",
   "execution_count": null,
   "id": "c3ff96f8",
   "metadata": {},
   "outputs": [],
   "source": []
  },
  {
   "cell_type": "code",
   "execution_count": 164,
   "id": "4f1eeaae",
   "metadata": {},
   "outputs": [
    {
     "data": {
      "text/plain": [
       "array([[-19. ,  -2. ,   2.7],\n",
       "       [  0. ,   3.4,  99.9],\n",
       "       [  0. ,  10.6,  13. ]])"
      ]
     },
     "execution_count": 164,
     "metadata": {},
     "output_type": "execute_result"
    }
   ],
   "source": [
    "# r) Sort the array myarray1 such that it brings the lowest value of the column in the first row and so on.\n",
    "myarray1 = np.array([[2.7,-2,-19],[0,3.4,99.9],[10.6,0,13]])\n",
    "myarray1.sort()\n",
    "myarray1"
   ]
  },
  {
   "cell_type": "code",
   "execution_count": 11,
   "id": "97152265",
   "metadata": {},
   "outputs": [
    {
     "data": {
      "text/plain": [
       "(array([[ 4.,  8., 12.]]),\n",
       " array([[16., 20., 24.],\n",
       "        [28., 32., 36.]]),\n",
       " array([], shape=(0, 3), dtype=float64))"
      ]
     },
     "execution_count": 11,
     "metadata": {},
     "output_type": "execute_result"
    }
   ],
   "source": [
    "# s) Use NumPy. split() to split the array myarray2 into 5 arrays column wise. Store your resulting arrays in myarray2A, myarray2B, myarray2C, myarray2D and myarray2E. Print the arrays myarray2A, myarray2B, myarray2C, myarray2D and myarray2E\n",
    "myarray2 = np.arange(4,45,4,dtype=float)\n",
    "myarray2.resize(3,3)\n",
    "myarray2A, myarray2B, myarray2C = np.split(myarray2,[1,3])\n",
    "myarray2A,myarray2B,myarray2C"
   ]
  },
  {
   "cell_type": "code",
   "execution_count": 12,
   "id": "4807ec9a",
   "metadata": {},
   "outputs": [],
   "source": [
    "# t) Split the array zeros at array index 2, 5, 7, 8 and store the resulting arrays in zerosA, zerosB, zerosC and zerosD and print them.\n",
    "zeros = np.zeros(10,dtype=int)\n",
    "zerosnew = np.split(zeros,[2,5,7,8])\n",
    "zerosA = zerosnew[0]\n",
    "zerosB = zerosnew[1]\n",
    "zerosC = zerosnew[2]\n",
    "zerosD = zerosnew[3]"
   ]
  },
  {
   "cell_type": "code",
   "execution_count": 167,
   "id": "4066b13e",
   "metadata": {},
   "outputs": [
    {
     "data": {
      "text/plain": [
       "array([[ 4.,  8., 12.],\n",
       "       [16., 20., 24.],\n",
       "       [28., 32., 36.]])"
      ]
     },
     "execution_count": 167,
     "metadata": {},
     "output_type": "execute_result"
    }
   ],
   "source": [
    "# u) Concatenate the arrays myarray2A, myarray2B and myarray2C into an array having 3 rows and 3 columns\n",
    "myarray2 = np.arange(4,45,4,dtype=float)\n",
    "myarray2.resize(3,3)\n",
    "myarray2A, myarray2B, myarray2C = np.split(myarray2,[1,3])\n",
    "np.concatenate((myarray2A, myarray2B, myarray2C),axis=0)"
   ]
  },
  {
   "cell_type": "code",
   "execution_count": 168,
   "id": "4fa8c08f",
   "metadata": {},
   "outputs": [
    {
     "data": {
      "text/plain": [
       "[array([[-1.  ],\n",
       "        [-0.25],\n",
       "        [ 0.5 ],\n",
       "        [ 1.25],\n",
       "        [ 2.  ],\n",
       "        [ 2.75],\n",
       "        [ 3.5 ],\n",
       "        [ 4.25],\n",
       "        [ 5.  ],\n",
       "        [ 5.75],\n",
       "        [ 6.5 ],\n",
       "        [ 7.25],\n",
       "        [ 8.  ],\n",
       "        [ 8.75]]),\n",
       " array([[-0.75],\n",
       "        [ 0.  ],\n",
       "        [ 0.75],\n",
       "        [ 1.5 ],\n",
       "        [ 2.25],\n",
       "        [ 3.  ],\n",
       "        [ 3.75],\n",
       "        [ 4.5 ],\n",
       "        [ 5.25],\n",
       "        [ 6.  ],\n",
       "        [ 6.75],\n",
       "        [ 7.5 ],\n",
       "        [ 8.25],\n",
       "        [ 9.  ]]),\n",
       " array([[-0.5 ],\n",
       "        [ 0.25],\n",
       "        [ 1.  ],\n",
       "        [ 1.75],\n",
       "        [ 2.5 ],\n",
       "        [ 3.25],\n",
       "        [ 4.  ],\n",
       "        [ 4.75],\n",
       "        [ 5.5 ],\n",
       "        [ 6.25],\n",
       "        [ 7.  ],\n",
       "        [ 7.75],\n",
       "        [ 8.5 ],\n",
       "        [ 9.25]])]"
      ]
     },
     "execution_count": 168,
     "metadata": {},
     "output_type": "execute_result"
    }
   ],
   "source": [
    "# v) Create a 2-D array called myarray4 using arange() having 14 rows and 3 columns with start value = -1, step size 0.25 having. Split this array row wise into 3 equal parts and print the result.\n",
    "\n",
    "myarray4 = np.arange(-1,45,0.25,dtype=float)\n",
    "myarray4.resize(14,3)\n",
    "np.split(myarray4,3,axis=1)"
   ]
  },
  {
   "cell_type": "markdown",
   "id": "2e470d7c",
   "metadata": {},
   "source": [
    "# w) Using the myarray4 created in the above questions, write commands for the following: "
   ]
  },
  {
   "cell_type": "code",
   "execution_count": 169,
   "id": "1f11b9dd",
   "metadata": {},
   "outputs": [
    {
     "data": {
      "text/plain": [
       "173.25"
      ]
     },
     "execution_count": 169,
     "metadata": {},
     "output_type": "execute_result"
    }
   ],
   "source": [
    "# i. Find the sum of all elements. \n",
    "myarray4 = np.arange(-1,45,0.25,dtype=float)\n",
    "myarray4.resize(14,3)\n",
    "myarray4.sum()"
   ]
  },
  {
   "cell_type": "code",
   "execution_count": 170,
   "id": "bcfc072f",
   "metadata": {},
   "outputs": [
    {
     "data": {
      "text/plain": [
       "array([-2.25,  0.  ,  2.25,  4.5 ,  6.75,  9.  , 11.25, 13.5 , 15.75,\n",
       "       18.  , 20.25, 22.5 , 24.75, 27.  ])"
      ]
     },
     "execution_count": 170,
     "metadata": {},
     "output_type": "execute_result"
    }
   ],
   "source": [
    "# ii. Find the sum of all elements row wise.\n",
    "myarray4 = np.arange(-1,45,0.25,dtype=float)\n",
    "myarray4.resize(14,3)\n",
    "myarray4.sum(axis=1)"
   ]
  },
  {
   "cell_type": "code",
   "execution_count": 171,
   "id": "6bb99ba9",
   "metadata": {},
   "outputs": [
    {
     "data": {
      "text/plain": [
       "array([54.25, 57.75, 61.25])"
      ]
     },
     "execution_count": 171,
     "metadata": {},
     "output_type": "execute_result"
    }
   ],
   "source": [
    "# iii. Find the sum of all elements column wise. \n",
    "myarray4 = np.arange(-1,45,0.25,dtype=float)\n",
    "myarray4.resize(14,3)\n",
    "myarray4.sum(axis=0)"
   ]
  },
  {
   "cell_type": "code",
   "execution_count": 172,
   "id": "67bb2cd8",
   "metadata": {},
   "outputs": [
    {
     "data": {
      "text/plain": [
       "9.25"
      ]
     },
     "execution_count": 172,
     "metadata": {},
     "output_type": "execute_result"
    }
   ],
   "source": [
    "# iv. Find the max of all elements. \n",
    "myarray4 = np.arange(-1,45,0.25,dtype=float)\n",
    "myarray4.resize(14,3)\n",
    "myarray4.max()"
   ]
  },
  {
   "cell_type": "code",
   "execution_count": 15,
   "id": "331d197f",
   "metadata": {},
   "outputs": [
    {
     "data": {
      "text/plain": [
       "array([-1.  , -0.25,  0.5 ,  1.25,  2.  ,  2.75,  3.5 ,  4.25,  5.  ,\n",
       "        5.75,  6.5 ,  7.25,  8.  ,  8.75])"
      ]
     },
     "execution_count": 15,
     "metadata": {},
     "output_type": "execute_result"
    }
   ],
   "source": [
    "# v. Find the min of all elements in each row.\n",
    "myarray4 = np.arange(-1,45,0.25,dtype=float)\n",
    "myarray4.resize(14,3)\n",
    "myarray4.min(axis=1)"
   ]
  },
  {
   "cell_type": "code",
   "execution_count": 174,
   "id": "efd47fb1",
   "metadata": {},
   "outputs": [
    {
     "data": {
      "text/plain": [
       "array([-0.75,  0.  ,  0.75,  1.5 ,  2.25,  3.  ,  3.75,  4.5 ,  5.25,\n",
       "        6.  ,  6.75,  7.5 ,  8.25,  9.  ])"
      ]
     },
     "execution_count": 174,
     "metadata": {},
     "output_type": "execute_result"
    }
   ],
   "source": [
    "# vi. Find the mean of all elements in each row. \n",
    "myarray4 = np.arange(-1,45,0.25,dtype=float)\n",
    "myarray4.resize(14,3)\n",
    "myarray4.mean(axis=1)"
   ]
  },
  {
   "cell_type": "code",
   "execution_count": 117,
   "id": "1b59939a",
   "metadata": {},
   "outputs": [
    {
     "data": {
      "text/plain": [
       "array([3.02334666, 3.02334666, 3.02334666])"
      ]
     },
     "execution_count": 117,
     "metadata": {},
     "output_type": "execute_result"
    }
   ],
   "source": [
    "# vii. Find the standard deviation column wise.\n",
    "myarray4 = np.arange(-1,45,0.25,dtype=float)\n",
    "myarray4.resize(14,3)\n",
    "myarray4.std(axis=0)"
   ]
  },
  {
   "cell_type": "code",
   "execution_count": null,
   "id": "263cd60b",
   "metadata": {},
   "outputs": [],
   "source": []
  },
  {
   "cell_type": "code",
   "execution_count": null,
   "id": "934ed268",
   "metadata": {},
   "outputs": [],
   "source": []
  },
  {
   "cell_type": "code",
   "execution_count": null,
   "id": "8b7a41f3",
   "metadata": {},
   "outputs": [],
   "source": []
  },
  {
   "cell_type": "code",
   "execution_count": null,
   "id": "5c0055de",
   "metadata": {},
   "outputs": [],
   "source": []
  }
 ],
 "metadata": {
  "kernelspec": {
   "display_name": "Python 3 (ipykernel)",
   "language": "python",
   "name": "python3"
  },
  "language_info": {
   "codemirror_mode": {
    "name": "ipython",
    "version": 3
   },
   "file_extension": ".py",
   "mimetype": "text/x-python",
   "name": "python",
   "nbconvert_exporter": "python",
   "pygments_lexer": "ipython3",
   "version": "3.9.7"
  }
 },
 "nbformat": 4,
 "nbformat_minor": 5
}

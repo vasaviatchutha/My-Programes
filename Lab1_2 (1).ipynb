{
 "cells": [
  {
   "cell_type": "code",
   "execution_count": 9,
   "id": "9970b593",
   "metadata": {},
   "outputs": [
    {
     "name": "stdout",
     "output_type": "stream",
     "text": [
      "[[1 2 3]\n",
      " [2 3 4]\n",
      " [3 4 5]]\n",
      "shape: (3, 3)\n",
      "dimension: 2\n"
     ]
    }
   ],
   "source": [
    "#Create multi-dimensional arrays and find its shape and dimension \n",
    "import numpy as np\n",
    "#Creation multi-dimensional arrays\n",
    "a=np.array([[1,2,3],[2,3,4],[3,4,5]])\n",
    "print(a)\n",
    "\n",
    "print(\"shape:\",a.shape)\n",
    "print(\"dimension:\",a.ndim)\n"
   ]
  },
  {
   "cell_type": "code",
   "execution_count": 10,
   "id": "281f114b",
   "metadata": {},
   "outputs": [
    {
     "name": "stdout",
     "output_type": "stream",
     "text": [
      "zeros: [[0. 0.]\n",
      " [0. 0.]]\n",
      "ones: [[1. 1.]\n",
      " [1. 1.]]\n"
     ]
    }
   ],
   "source": [
    "#Create a matrix full of zeros and ones\n",
    "z=np.zeros((2,2))\n",
    "print(\"zeros:\",z)\n",
    "\n",
    "o=np.ones((2,2))\n",
    "print(\"ones:\",o)\n"
   ]
  },
  {
   "cell_type": "code",
   "execution_count": 11,
   "id": "8ba1ca70",
   "metadata": {},
   "outputs": [
    {
     "name": "stdout",
     "output_type": "stream",
     "text": [
      "reshape: [[[1 2]\n",
      "  [3 4]]\n",
      "\n",
      " [[2 3]\n",
      "  [4 5]]\n",
      "\n",
      " [[3 4]\n",
      "  [5 6]]\n",
      "\n",
      " [[4 5]\n",
      "  [6 7]]]\n",
      "flatten: [1 2 3 4 2 3 4 5 3 4 5 6 4 5 6 7]\n"
     ]
    }
   ],
   "source": [
    "a=np.array([[1,2,3,4],[2,3,4,5],[3,4,5,6],[4,5,6,7]])\n",
    "b=a.reshape(4,2,2)\n",
    "print(\"reshape:\",b)\n",
    "\n",
    "c=a.flatten()\n",
    "print(\"flatten:\",c)"
   ]
  },
  {
   "cell_type": "code",
   "execution_count": 12,
   "id": "a23affe9",
   "metadata": {},
   "outputs": [
    {
     "name": "stdout",
     "output_type": "stream",
     "text": [
      "vertically: [[10 20]\n",
      " [80 90]\n",
      " [30 40]\n",
      " [60 70]]\n",
      "horizontally: [[10 20 30 40]\n",
      " [80 90 60 70]]\n"
     ]
    }
   ],
   "source": [
    "x=np.array([[10,20],[80,90]])\n",
    "y=np.array([[30,40],[60,70]])\n",
    "v=np.vstack((x,y))\n",
    "print (\"vertically:\",v)\n",
    "\n",
    "h=np.hstack((x,y))\n",
    "print(\"horizontally:\",h)"
   ]
  },
  {
   "cell_type": "code",
   "execution_count": 13,
   "id": "48314d36",
   "metadata": {},
   "outputs": [
    {
     "name": "stdout",
     "output_type": "stream",
     "text": [
      "indexing [2 3 4 5]\n",
      "slicing [[1 3]\n",
      " [2 4]\n",
      " [3 5]\n",
      " [4 6]]\n"
     ]
    }
   ],
   "source": [
    "a=np.array([[1,2,3,4],[2,3,4,5],[3,4,5,6],[4,5,6,7]])\n",
    "temp=a[[0,1,2,3],[1,1,1,1]]\n",
    "print(\"indexing\",temp)\n",
    "\n",
    "i=a[:4,::2]\n",
    "print(\"slicing\",i)\n"
   ]
  },
  {
   "cell_type": "code",
   "execution_count": 17,
   "id": "8aa9d5e9",
   "metadata": {},
   "outputs": [
    {
     "name": "stdout",
     "output_type": "stream",
     "text": [
      "minimum: -2\n",
      "maximum: 4\n",
      "mean: <built-in method mean of numpy.ndarray object at 0x000001E106301270>\n",
      "median: 3.0\n",
      "standard deviation: 1.4142135623730951\n"
     ]
    }
   ],
   "source": [
    "a=np.array([[1,3,-1,4],[3,-2,1,4]])\n",
    "b=a.min()\n",
    "print(\"minimum:\",b)\n",
    "c=a.max()\n",
    "print(\"maximum:\",c)\n",
    "\n",
    "#mean\n",
    "x=np.array([1,2,3,4,5])\n",
    "d= x.mean\n",
    "print(\"mean:\",d)\n",
    "\n",
    "e=np.median(x)\n",
    "print(\"median:\",e)\n",
    "\n",
    "f=x.std()\n",
    "print(\"standard deviation:\",f)"
   ]
  },
  {
   "cell_type": "code",
   "execution_count": null,
   "id": "bb591bda",
   "metadata": {},
   "outputs": [],
   "source": []
  }
 ],
 "metadata": {
  "kernelspec": {
   "display_name": "Python 3 (ipykernel)",
   "language": "python",
   "name": "python3"
  },
  "language_info": {
   "codemirror_mode": {
    "name": "ipython",
    "version": 3
   },
   "file_extension": ".py",
   "mimetype": "text/x-python",
   "name": "python",
   "nbconvert_exporter": "python",
   "pygments_lexer": "ipython3",
   "version": "3.9.7"
  }
 },
 "nbformat": 4,
 "nbformat_minor": 5
}

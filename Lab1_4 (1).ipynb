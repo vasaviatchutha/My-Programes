{
 "cells": [
  {
   "cell_type": "code",
   "execution_count": 1,
   "id": "2a9b9155",
   "metadata": {},
   "outputs": [
    {
     "name": "stdout",
     "output_type": "stream",
     "text": [
      "[13 15 16 16 19 20 20 21 22 22 25 25 25 25 30 33 33 35 35 35 35 36 40 45\n",
      " 46 52 70]\n",
      "0     13\n",
      "1     15\n",
      "2     16\n",
      "3     16\n",
      "4     19\n",
      "5     20\n",
      "6     20\n",
      "7     21\n",
      "8     22\n",
      "9     22\n",
      "10    25\n",
      "11    25\n",
      "12    25\n",
      "13    25\n",
      "14    30\n",
      "15    33\n",
      "16    33\n",
      "17    35\n",
      "18    35\n",
      "19    35\n",
      "20    35\n",
      "21    36\n",
      "22    40\n",
      "23    45\n",
      "24    46\n",
      "25    52\n",
      "26    70\n",
      "dtype: int32\n"
     ]
    }
   ],
   "source": [
    "import math\n",
    "import statistics\n",
    "import numpy as np\n",
    "import scipy.stats\n",
    "import pandas as pd\n",
    "x=np.array(([ 13, 15, 16, 16, 19, 20, 20, 21, 22, 22, 25, 25, 25, 25, 30, 33, 33, 35, 35,\n",
    "35, 35, 36, 40, 45, 46, 52, 70]))\n",
    "print(x)\n",
    "d=pd.Series(x)\n",
    "print(d)\n"
   ]
  },
  {
   "cell_type": "code",
   "execution_count": 2,
   "id": "57039bb1",
   "metadata": {},
   "outputs": [
    {
     "name": "stdout",
     "output_type": "stream",
     "text": [
      "mean: 29\n"
     ]
    }
   ],
   "source": [
    "#Calculate measures of central tendency\n",
    "mean_ = statistics.mean(x)\n",
    "print(\"mean:\",mean_)"
   ]
  },
  {
   "cell_type": "code",
   "execution_count": 3,
   "id": "87984501",
   "metadata": {},
   "outputs": [
    {
     "name": "stdout",
     "output_type": "stream",
     "text": [
      "median: 25\n"
     ]
    }
   ],
   "source": [
    "median_ = statistics.median(x)\n",
    "print(\"median:\",median_)\n"
   ]
  },
  {
   "cell_type": "code",
   "execution_count": 4,
   "id": "56763193",
   "metadata": {},
   "outputs": [
    {
     "name": "stdout",
     "output_type": "stream",
     "text": [
      "mode: [25, 35]\n"
     ]
    }
   ],
   "source": [
    "mode_ = statistics.multimode(x)\n",
    "print(\"mode:\",mode_)"
   ]
  },
  {
   "cell_type": "code",
   "execution_count": 5,
   "id": "c4d4535d",
   "metadata": {},
   "outputs": [
    {
     "name": "stdout",
     "output_type": "stream",
     "text": [
      "[20.5, 25.0, 35.0]\n",
      "Q1= 20.5\n",
      "Q3= 35.0\n"
     ]
    }
   ],
   "source": [
    "#To find (roughly) the first quartile (Q1) and the third quartile (Q3) of the data.\n",
    "quartile=statistics.quantiles(x, n=4, method='inclusive')\n",
    "print(quartile)\n",
    "print (\"Q1=\",quartile[0])\n",
    "print (\"Q3=\",quartile[2])\n"
   ]
  },
  {
   "cell_type": "code",
   "execution_count": 6,
   "id": "656f9d29",
   "metadata": {},
   "outputs": [
    {
     "name": "stdout",
     "output_type": "stream",
     "text": [
      "count    27.000000\n",
      "mean     29.962963\n",
      "std      12.942124\n",
      "min      13.000000\n",
      "25%      20.500000\n",
      "50%      25.000000\n",
      "75%      35.000000\n",
      "max      70.000000\n",
      "dtype: float64\n"
     ]
    }
   ],
   "source": [
    "#Give the five-number summary of the data\n",
    "result=d.describe()\n",
    "print(result)\n",
    "#print(\"count=\",result['count'])\n",
    "#print(\"mean=\",result['mean'])\n",
    "#print(\"standard deviation=\",result['std'])\n",
    "#print(\"minimum;\",result['min'])\n",
    "#print(\"maximum\",result['max'])\n",
    "#print(\"Q1=\",result['25%'])\n",
    "#print(\"Q2=\",result['50%'])\n",
    "#print(\"Q3=\",result['75%'])\n",
    "\n"
   ]
  },
  {
   "cell_type": "code",
   "execution_count": 11,
   "id": "1e92d556",
   "metadata": {},
   "outputs": [
    {
     "data": {
      "image/png": "[encoded data removed]",
      "text/plain": [
       "<Figure size 432x288 with 1 Axes>"
      ]
     },
     "metadata": {
      "needs_background": "light"
     },
     "output_type": "display_data"
    }
   ],
   "source": [
    "#Show a boxplot of the data\n",
    "import matplotlib.pyplot as plt\n",
    "fig, d = plt.subplots()\n",
    "plt.xlabel('X')\n",
    "plt.ylabel('data')\n",
    "d.boxplot((x))\n",
    "plt.show()\n"
   ]
  },
  {
   "cell_type": "code",
   "execution_count": null,
   "id": "617a7717",
   "metadata": {},
   "outputs": [],
   "source": []
  },
  {
   "cell_type": "code",
   "execution_count": null,
   "id": "1e500485",
   "metadata": {},
   "outputs": [],
   "source": []
  },
  {
   "cell_type": "code",
   "execution_count": null,
   "id": "ddc1de07",
   "metadata": {},
   "outputs": [],
   "source": []
  }
 ],
 "metadata": {
  "kernelspec": {
   "display_name": "Python 3 (ipykernel)",
   "language": "python",
   "name": "python3"
  },
  "language_info": {
   "codemirror_mode": {
    "name": "ipython",
    "version": 3
   },
   "file_extension": ".py",
   "mimetype": "text/x-python",
   "name": "python",
   "nbconvert_exporter": "python",
   "pygments_lexer": "ipython3",
   "version": "3.9.7"
  }
 },
 "nbformat": 4,
 "nbformat_minor": 5
}

{
 "cells": [
  {
   "cell_type": "code",
   "execution_count": 2,
   "id": "8ce9d30a",
   "metadata": {},
   "outputs": [
    {
     "data": {
      "text/html": [
       "<div>\n",
       "<style scoped>\n",
       "    .dataframe tbody tr th:only-of-type {\n",
       "        vertical-align: middle;\n",
       "    }\n",
       "\n",
       "    .dataframe tbody tr th {\n",
       "        vertical-align: top;\n",
       "    }\n",
       "\n",
       "    .dataframe thead th {\n",
       "        text-align: right;\n",
       "    }\n",
       "</style>\n",
       "<table border=\"1\" class=\"dataframe\">\n",
       "  <thead>\n",
       "    <tr style=\"text-align: right;\">\n",
       "      <th></th>\n",
       "      <th>Username</th>\n",
       "      <th>Identifier</th>\n",
       "      <th>Firstname</th>\n",
       "      <th>Lastname</th>\n",
       "    </tr>\n",
       "  </thead>\n",
       "  <tbody>\n",
       "    <tr>\n",
       "      <th>1</th>\n",
       "      <td>booker12</td>\n",
       "      <td>9012</td>\n",
       "      <td>Rachel</td>\n",
       "      <td>Booker</td>\n",
       "    </tr>\n",
       "    <tr>\n",
       "      <th>2</th>\n",
       "      <td>grey07</td>\n",
       "      <td>2070</td>\n",
       "      <td>Laura</td>\n",
       "      <td>Grey</td>\n",
       "    </tr>\n",
       "    <tr>\n",
       "      <th>3</th>\n",
       "      <td>johnson81</td>\n",
       "      <td>4081</td>\n",
       "      <td>Craig</td>\n",
       "      <td>Johnson</td>\n",
       "    </tr>\n",
       "    <tr>\n",
       "      <th>4</th>\n",
       "      <td>jenkins46</td>\n",
       "      <td>9346</td>\n",
       "      <td>Mary</td>\n",
       "      <td>Jenkins</td>\n",
       "    </tr>\n",
       "    <tr>\n",
       "      <th>5</th>\n",
       "      <td>smith79</td>\n",
       "      <td>5079</td>\n",
       "      <td>Jamie</td>\n",
       "      <td>Smith</td>\n",
       "    </tr>\n",
       "  </tbody>\n",
       "</table>\n",
       "</div>"
      ],
      "text/plain": [
       "    Username  Identifier Firstname Lastname\n",
       "1   booker12        9012    Rachel   Booker\n",
       "2     grey07        2070     Laura     Grey\n",
       "3  johnson81        4081     Craig  Johnson\n",
       "4  jenkins46        9346      Mary  Jenkins\n",
       "5    smith79        5079     Jamie    Smith"
      ]
     },
     "execution_count": 2,
     "metadata": {},
     "output_type": "execute_result"
    }
   ],
   "source": [
    "#7. Write a Python program to perform the following:\n",
    "#a) Input as csv File\n",
    "import pandas as pd\n",
    "import numpy as np\n",
    "import csv\n",
    "frame = pd.DataFrame([['booker12',9012,'Rachel','Booker'],\n",
    "                     ['grey07',2070,'Laura','Grey'],\n",
    "                     ['johnson81',4081,'Craig','Johnson'],\n",
    "                     ['jenkins46',9346,'Mary','Jenkins'],\n",
    "                     ['smith79',5079,'Jamie','Smith']],\n",
    "                     index=[1,2,3,4,5],\n",
    "                     columns=[ 'Username','Identifier','Firstname','Lastname'])\n",
    "frame"
   ]
  },
  {
   "cell_type": "code",
   "execution_count": 13,
   "id": "81da2c82",
   "metadata": {
    "scrolled": true
   },
   "outputs": [
    {
     "name": "stdout",
     "output_type": "stream",
     "text": [
      "   Username   Identifier First name Last name\n",
      "0   booker12        9012     Rachel    Booker\n",
      "1     grey07        2070      Laura      Grey\n",
      "2  johnson81        4081      Craig   Johnson\n",
      "3  jenkins46        9346       Mary   Jenkins\n",
      "4    smith79        5079      Jamie     Smith\n"
     ]
    }
   ],
   "source": [
    "#Reading a CSV File\n",
    "import pandas as pd\n",
    "\n",
    "df = pd.read_csv('Z:\\data.csv')\n",
    "\n",
    "print(df.to_string()) "
   ]
  },
  {
   "cell_type": "code",
   "execution_count": 14,
   "id": "3a8d2dae",
   "metadata": {},
   "outputs": [
    {
     "name": "stdout",
     "output_type": "stream",
     "text": [
      "['johnson81', '4081', 'Craig', 'Johnson']\n",
      "['grey07', '2070', 'Laura', 'Grey']\n"
     ]
    }
   ],
   "source": [
    "#Reading Specific Rows\n",
    "import csv\n",
    "\n",
    "with open('Z:\\data.csv') as csv_file:\n",
    "    csv_reader = csv.reader(csv_file)\n",
    "    rows = list(csv_reader)\n",
    "\n",
    "    print(rows[3])\n",
    "    print(rows[2])"
   ]
  },
  {
   "cell_type": "code",
   "execution_count": 12,
   "id": "2d615829",
   "metadata": {},
   "outputs": [
    {
     "name": "stdout",
     "output_type": "stream",
     "text": [
      "['booker12', '9012', 'Rachel', 'Booker']\n",
      "['grey07', '2070', 'Laura', 'Grey']\n"
     ]
    }
   ],
   "source": [
    "#Reading Specific Cols\n",
    "import csv\n",
    "\n",
    "with open('Z:\\data.csv') as csv_file:\n",
    "    csv_reader = csv.reader(csv_file)\n",
    "    cols = list(csv_reader)\n",
    "   \n",
    "    print(cols[1])\n",
    "    print(cols[2])"
   ]
  },
  {
   "cell_type": "code",
   "execution_count": 11,
   "id": "5b4a42e5",
   "metadata": {},
   "outputs": [
    {
     "name": "stdout",
     "output_type": "stream",
     "text": [
      "['johnson81', '4081', 'Craig', 'Johnson']\n",
      "['grey07', '2070', 'Laura', 'Grey']\n"
     ]
    },
    {
     "ename": "NameError",
     "evalue": "name 'cols' is not defined",
     "output_type": "error",
     "traceback": [
      "\u001b[1;31m---------------------------------------------------------------------------\u001b[0m",
      "\u001b[1;31mNameError\u001b[0m                                 Traceback (most recent call last)",
      "\u001b[1;32m~\\AppData\\Local\\Temp/ipykernel_7656/713635309.py\u001b[0m in \u001b[0;36m<module>\u001b[1;34m\u001b[0m\n\u001b[0;32m      8\u001b[0m     \u001b[0mprint\u001b[0m\u001b[1;33m(\u001b[0m\u001b[0mrows\u001b[0m\u001b[1;33m[\u001b[0m\u001b[1;36m3\u001b[0m\u001b[1;33m]\u001b[0m\u001b[1;33m)\u001b[0m\u001b[1;33m\u001b[0m\u001b[1;33m\u001b[0m\u001b[0m\n\u001b[0;32m      9\u001b[0m     \u001b[0mprint\u001b[0m\u001b[1;33m(\u001b[0m\u001b[0mrows\u001b[0m\u001b[1;33m[\u001b[0m\u001b[1;36m2\u001b[0m\u001b[1;33m]\u001b[0m\u001b[1;33m)\u001b[0m\u001b[1;33m\u001b[0m\u001b[1;33m\u001b[0m\u001b[0m\n\u001b[1;32m---> 10\u001b[1;33m     \u001b[0mprint\u001b[0m\u001b[1;33m(\u001b[0m\u001b[0mcols\u001b[0m\u001b[1;33m[\u001b[0m\u001b[1;36m1\u001b[0m\u001b[1;33m]\u001b[0m\u001b[1;33m)\u001b[0m\u001b[1;33m\u001b[0m\u001b[1;33m\u001b[0m\u001b[0m\n\u001b[0m\u001b[0;32m     11\u001b[0m     \u001b[0mprint\u001b[0m\u001b[1;33m(\u001b[0m\u001b[0mcols\u001b[0m\u001b[1;33m[\u001b[0m\u001b[1;36m2\u001b[0m\u001b[1;33m]\u001b[0m\u001b[1;33m)\u001b[0m\u001b[1;33m\u001b[0m\u001b[1;33m\u001b[0m\u001b[0m\n",
      "\u001b[1;31mNameError\u001b[0m: name 'cols' is not defined"
     ]
    }
   ],
   "source": [
    "#Reading Specific Rows and cols\n",
    "import csv\n",
    "\n",
    "with open('Z:\\data.csv') as csv_file:\n",
    "    csv_reader = csv.reader(csv_file)\n",
    "    rows = list(csv_reader)\n",
    "\n",
    "    print(rows[3])\n",
    "    print(rows[2])\n",
    "    print(cols[1])\n",
    "    print(cols[2])"
   ]
  },
  {
   "cell_type": "code",
   "execution_count": 10,
   "id": "0a108b71",
   "metadata": {},
   "outputs": [
    {
     "name": "stdout",
     "output_type": "stream",
     "text": [
      "   Username   Identifier First name Last name\n",
      "2  johnson81        4081      Craig   Johnson\n",
      "3  jenkins46        9346       Mary   Jenkins\n",
      "4    smith79        5079      Jamie     Smith\n"
     ]
    }
   ],
   "source": [
    "#Reading Specific Columns for a Range of Rows\n",
    "import pandas as pd\n",
    "data = pd.read_csv('Z:\\data.csv')\n",
    "print (data.loc[2:6])"
   ]
  },
  {
   "cell_type": "code",
   "execution_count": 16,
   "id": "de213b60",
   "metadata": {},
   "outputs": [
    {
     "data": {
      "text/html": [
       "<div>\n",
       "<style scoped>\n",
       "    .dataframe tbody tr th:only-of-type {\n",
       "        vertical-align: middle;\n",
       "    }\n",
       "\n",
       "    .dataframe tbody tr th {\n",
       "        vertical-align: top;\n",
       "    }\n",
       "\n",
       "    .dataframe thead th {\n",
       "        text-align: right;\n",
       "    }\n",
       "</style>\n",
       "<table border=\"1\" class=\"dataframe\">\n",
       "  <thead>\n",
       "    <tr style=\"text-align: right;\">\n",
       "      <th></th>\n",
       "      <th>Username; Identifier;First name;Last name</th>\n",
       "    </tr>\n",
       "  </thead>\n",
       "  <tbody>\n",
       "    <tr>\n",
       "      <th>0</th>\n",
       "      <td>False</td>\n",
       "    </tr>\n",
       "    <tr>\n",
       "      <th>1</th>\n",
       "      <td>False</td>\n",
       "    </tr>\n",
       "    <tr>\n",
       "      <th>2</th>\n",
       "      <td>False</td>\n",
       "    </tr>\n",
       "    <tr>\n",
       "      <th>3</th>\n",
       "      <td>False</td>\n",
       "    </tr>\n",
       "    <tr>\n",
       "      <th>4</th>\n",
       "      <td>False</td>\n",
       "    </tr>\n",
       "  </tbody>\n",
       "</table>\n",
       "</div>"
      ],
      "text/plain": [
       "   Username; Identifier;First name;Last name\n",
       "0                                      False\n",
       "1                                      False\n",
       "2                                      False\n",
       "3                                      False\n",
       "4                                      False"
      ]
     },
     "execution_count": 16,
     "metadata": {},
     "output_type": "execute_result"
    }
   ],
   "source": [
    "#Identify the missing data\n",
    "import pandas as pd\n",
    "\n",
    "df = pd.read_csv('Z:\\data.csv')\n",
    "df.isnull()"
   ]
  },
  {
   "cell_type": "code",
   "execution_count": 9,
   "id": "2d0aa599",
   "metadata": {},
   "outputs": [
    {
     "name": "stderr",
     "output_type": "stream",
     "text": [
      "Matplotlib is building the font cache; this may take a moment.\n"
     ]
    },
    {
     "name": "stdout",
     "output_type": "stream",
     "text": [
      "(5, 4)\n",
      "<class 'pandas.core.frame.DataFrame'>\n",
      "RangeIndex: 5 entries, 0 to 4\n",
      "Data columns (total 4 columns):\n",
      " #   Column      Non-Null Count  Dtype \n",
      "---  ------      --------------  ----- \n",
      " 0   Username    5 non-null      object\n",
      " 1   Identifier  5 non-null      int64 \n",
      " 2   First name  5 non-null      object\n",
      " 3   Last name   5 non-null      object\n",
      "dtypes: int64(1), object(3)\n",
      "memory usage: 288.0+ bytes\n",
      "None\n"
     ]
    }
   ],
   "source": [
    "#h) Identify the outlier data\n",
    "import pandas as pd\n",
    "import numpy as np \n",
    "import matplotlib.pyplot as plt\n",
    "\n",
    "# Reading the data\n",
    "df = pd.read_csv('Z:\\data.csv')\n",
    "print(df.shape)\n",
    "print(df.info())"
   ]
  },
  {
   "cell_type": "code",
   "execution_count": 8,
   "id": "30a7db6c",
   "metadata": {},
   "outputs": [
    {
     "data": {
      "text/html": [
       "<div>\n",
       "<style scoped>\n",
       "    .dataframe tbody tr th:only-of-type {\n",
       "        vertical-align: middle;\n",
       "    }\n",
       "\n",
       "    .dataframe tbody tr th {\n",
       "        vertical-align: top;\n",
       "    }\n",
       "\n",
       "    .dataframe thead th {\n",
       "        text-align: right;\n",
       "    }\n",
       "</style>\n",
       "<table border=\"1\" class=\"dataframe\">\n",
       "  <thead>\n",
       "    <tr style=\"text-align: right;\">\n",
       "      <th></th>\n",
       "      <th>Identifier</th>\n",
       "    </tr>\n",
       "  </thead>\n",
       "  <tbody>\n",
       "    <tr>\n",
       "      <th>count</th>\n",
       "      <td>5.000000</td>\n",
       "    </tr>\n",
       "    <tr>\n",
       "      <th>mean</th>\n",
       "      <td>5917.600000</td>\n",
       "    </tr>\n",
       "    <tr>\n",
       "      <th>std</th>\n",
       "      <td>3170.552523</td>\n",
       "    </tr>\n",
       "    <tr>\n",
       "      <th>min</th>\n",
       "      <td>2070.000000</td>\n",
       "    </tr>\n",
       "    <tr>\n",
       "      <th>25%</th>\n",
       "      <td>4081.000000</td>\n",
       "    </tr>\n",
       "    <tr>\n",
       "      <th>50%</th>\n",
       "      <td>5079.000000</td>\n",
       "    </tr>\n",
       "    <tr>\n",
       "      <th>75%</th>\n",
       "      <td>9012.000000</td>\n",
       "    </tr>\n",
       "    <tr>\n",
       "      <th>max</th>\n",
       "      <td>9346.000000</td>\n",
       "    </tr>\n",
       "  </tbody>\n",
       "</table>\n",
       "</div>"
      ],
      "text/plain": [
       "        Identifier\n",
       "count     5.000000\n",
       "mean   5917.600000\n",
       "std    3170.552523\n",
       "min    2070.000000\n",
       "25%    4081.000000\n",
       "50%    5079.000000\n",
       "75%    9012.000000\n",
       "max    9346.000000"
      ]
     },
     "execution_count": 8,
     "metadata": {},
     "output_type": "execute_result"
    }
   ],
   "source": [
    "df.describe()"
   ]
  },
  {
   "cell_type": "code",
   "execution_count": 7,
   "id": "badb07a6",
   "metadata": {},
   "outputs": [
    {
     "name": "stdout",
     "output_type": "stream",
     "text": [
      "   Username   Identifier First name Last name\n",
      "0   booker12        9012     Rachel    Booker\n",
      "1     grey07        2070      Laura      Grey\n",
      "2  johnson81        4081      Craig   Johnson\n",
      "3  jenkins46        9346       Mary   Jenkins\n",
      "4    smith79        5079      Jamie     Smith\n"
     ]
    }
   ],
   "source": [
    "#Replace with mean or mode\n",
    "import csv\n",
    "df = pd.read_csv('Z:\\data.csv')\n",
    "\n",
    "df.dropna(inplace = True)\n",
    "\n",
    "print(df.to_string())"
   ]
  },
  {
   "cell_type": "code",
   "execution_count": 6,
   "id": "85043867",
   "metadata": {},
   "outputs": [
    {
     "name": "stdout",
     "output_type": "stream",
     "text": [
      "   Username   Identifier First name Last name\n",
      "0   booker12        9012     Rachel    Booker\n",
      "1     grey07        2070      Laura      Grey\n",
      "2  johnson81        4081      Craig   Johnson\n",
      "3  jenkins46        9346       Mary   Jenkins\n",
      "4    smith79        5079      Jamie     Smith\n"
     ]
    }
   ],
   "source": [
    "#j) Remove Blank Rows\n",
    "import pandas as pd\n",
    "\n",
    "df = pd.read_csv('Z:\\data.csv')\n",
    "\n",
    "new_df = df.dropna()\n",
    "\n",
    "print(new_df.to_string())"
   ]
  },
  {
   "cell_type": "code",
   "execution_count": null,
   "id": "268f2eac",
   "metadata": {},
   "outputs": [],
   "source": [
    "# Data Categories\n"
   ]
  },
  {
   "cell_type": "code",
   "execution_count": 4,
   "id": "01a4684d",
   "metadata": {},
   "outputs": [
    {
     "data": {
      "text/plain": [
       "Username      object\n",
       "Identifier     int64\n",
       "First name    object\n",
       "Last name     object\n",
       "dtype: object"
      ]
     },
     "execution_count": 4,
     "metadata": {},
     "output_type": "execute_result"
    }
   ],
   "source": [
    "#Data types\n",
    "import csv\n",
    "df = pd.read_csv('Z:\\data.csv')\n",
    "df.dtypes"
   ]
  },
  {
   "cell_type": "code",
   "execution_count": 5,
   "id": "c47beb56",
   "metadata": {},
   "outputs": [
    {
     "data": {
      "text/html": [
       "<div>\n",
       "<style scoped>\n",
       "    .dataframe tbody tr th:only-of-type {\n",
       "        vertical-align: middle;\n",
       "    }\n",
       "\n",
       "    .dataframe tbody tr th {\n",
       "        vertical-align: top;\n",
       "    }\n",
       "\n",
       "    .dataframe thead th {\n",
       "        text-align: right;\n",
       "    }\n",
       "</style>\n",
       "<table border=\"1\" class=\"dataframe\">\n",
       "  <thead>\n",
       "    <tr style=\"text-align: right;\">\n",
       "      <th></th>\n",
       "      <th>Username</th>\n",
       "      <th>Identifier</th>\n",
       "      <th>First name</th>\n",
       "      <th>Last name</th>\n",
       "    </tr>\n",
       "  </thead>\n",
       "  <tbody>\n",
       "    <tr>\n",
       "      <th>0</th>\n",
       "      <td>booker12</td>\n",
       "      <td>9012</td>\n",
       "      <td>Rachel</td>\n",
       "      <td>Booker</td>\n",
       "    </tr>\n",
       "    <tr>\n",
       "      <th>1</th>\n",
       "      <td>grey07</td>\n",
       "      <td>2070</td>\n",
       "      <td>Laura</td>\n",
       "      <td>Grey</td>\n",
       "    </tr>\n",
       "    <tr>\n",
       "      <th>2</th>\n",
       "      <td>johnson81</td>\n",
       "      <td>4081</td>\n",
       "      <td>Craig</td>\n",
       "      <td>Johnson</td>\n",
       "    </tr>\n",
       "    <tr>\n",
       "      <th>3</th>\n",
       "      <td>jenkins46</td>\n",
       "      <td>9346</td>\n",
       "      <td>Mary</td>\n",
       "      <td>Jenkins</td>\n",
       "    </tr>\n",
       "    <tr>\n",
       "      <th>4</th>\n",
       "      <td>smith79</td>\n",
       "      <td>5079</td>\n",
       "      <td>Jamie</td>\n",
       "      <td>Smith</td>\n",
       "    </tr>\n",
       "  </tbody>\n",
       "</table>\n",
       "</div>"
      ],
      "text/plain": [
       "   Username   Identifier First name Last name\n",
       "0   booker12        9012     Rachel    Booker\n",
       "1     grey07        2070      Laura      Grey\n",
       "2  johnson81        4081      Craig   Johnson\n",
       "3  jenkins46        9346       Mary   Jenkins\n",
       "4    smith79        5079      Jamie     Smith"
      ]
     },
     "execution_count": 5,
     "metadata": {},
     "output_type": "execute_result"
    }
   ],
   "source": [
    "#Analyze the data\n",
    "df.head()"
   ]
  },
  {
   "cell_type": "code",
   "execution_count": 3,
   "id": "ac832d7f",
   "metadata": {},
   "outputs": [
    {
     "name": "stdout",
     "output_type": "stream",
     "text": [
      "            Identifier\n",
      "Identifier         1.0\n"
     ]
    }
   ],
   "source": [
    "#Find correlation among all attributes\n",
    "import csv\n",
    "df = pd.read_csv('Z:\\data.csv')\n",
    "print(df.corr())\n"
   ]
  },
  {
   "cell_type": "code",
   "execution_count": 18,
   "id": "2247cc7f",
   "metadata": {},
   "outputs": [
    {
     "data": {
      "text/plain": [
       "<AxesSubplot:>"
      ]
     },
     "execution_count": 18,
     "metadata": {},
     "output_type": "execute_result"
    },
    {
     "data": {
      "image/png": "[encoded data removed]",
      "text/plain": [
       "<Figure size 432x288 with 1 Axes>"
      ]
     },
     "metadata": {
      "needs_background": "light"
     },
     "output_type": "display_data"
    }
   ],
   "source": [
    "import pandas as pd\n",
    "import numpy as np\n",
    "df = pd.DataFrame(np.random.rand(6, 4), columns=['Username', 'Identifier','First name','Last name'])\n",
    "df.plot.box()"
   ]
  },
  {
   "cell_type": "code",
   "execution_count": null,
   "id": "707674ed",
   "metadata": {},
   "outputs": [],
   "source": []
  }
 ],
 "metadata": {
  "kernelspec": {
   "display_name": "Python 3 (ipykernel)",
   "language": "python",
   "name": "python3"
  },
  "language_info": {
   "codemirror_mode": {
    "name": "ipython",
    "version": 3
   },
   "file_extension": ".py",
   "mimetype": "text/x-python",
   "name": "python",
   "nbconvert_exporter": "python",
   "pygments_lexer": "ipython3",
   "version": "3.9.7"
  }
 },
 "nbformat": 4,
 "nbformat_minor": 5
}
